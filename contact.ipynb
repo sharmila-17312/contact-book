{
  "nbformat": 4,
  "nbformat_minor": 0,
  "metadata": {
    "colab": {
      "provenance": []
    },
    "kernelspec": {
      "name": "python3",
      "display_name": "Python 3"
    },
    "language_info": {
      "name": "python"
    }
  },
  "cells": [
    {
      "cell_type": "code",
      "source": [
        "def contact_book():\n",
        "    contacts = {}\n",
        "\n",
        "    while True:\n",
        "        print(\"\\n Options: \")\n",
        "        print(\"1. Add Contact\")\n",
        "        print(\"2. View Contacts\")\n",
        "        print(\"3. Delete Contact\")\n",
        "        print(\"4. Exit\")\n",
        "\n",
        "        choice = input(\"Enter your choice: \")\n",
        "\n",
        "        if choice == '1':\n",
        "            name = input(\"Enter contact name: \")\n",
        "            phone = input(\"Enter phone number: \")\n",
        "            contacts[name] = phone\n",
        "            print(f\"Contact {name} added!\")\n",
        "        elif choice == '2':\n",
        "            print(\"Contacts:\")\n",
        "            for name, phone in contacts.items():\n",
        "                print(f\"{name}: {phone}\")\n",
        "        elif choice == '3':\n",
        "            name = input(\"Enter the name of the contact to delete: \")\n",
        "            if name in contacts:\n",
        "                del contacts[name]\n",
        "                print(f\"Contact {name} deleted.\")\n",
        "            else:\n",
        "                print(\"Contact not found.\")\n",
        "        elif choice == '4':\n",
        "            print(\"Exiting.\")\n",
        "            break\n",
        "        else:\n",
        "            print(\"Invalid choice.\")\n",
        "\n",
        "contact_book()"
      ],
      "metadata": {
        "colab": {
          "base_uri": "https://localhost:8080/"
        },
        "id": "lQdcj8g4fCjj",
        "outputId": "a778f5be-eb79-4d09-9bfa-c6c9d8d8f65a"
      },
      "execution_count": 4,
      "outputs": [
        {
          "output_type": "stream",
          "name": "stdout",
          "text": [
            "\n",
            " Options: \n",
            "1. Add Contact\n",
            "2. View Contacts\n",
            "3. Delete Contact\n",
            "4. Exit\n",
            "Enter your choice: 1\n",
            "Enter contact name: sowmiya\n",
            "Enter phone number: 9842563950\n",
            "Contact sowmiya added!\n",
            "\n",
            " Options: \n",
            "1. Add Contact\n",
            "2. View Contacts\n",
            "3. Delete Contact\n",
            "4. Exit\n",
            "Enter your choice: 2\n",
            "Contacts:\n",
            "sowmiya: 9842563950\n",
            "\n",
            " Options: \n",
            "1. Add Contact\n",
            "2. View Contacts\n",
            "3. Delete Contact\n",
            "4. Exit\n",
            "Enter your choice: 1\n",
            "Enter contact name: ganga\n",
            "Enter phone number: 8248376577\n",
            "Contact ganga added!\n",
            "\n",
            " Options: \n",
            "1. Add Contact\n",
            "2. View Contacts\n",
            "3. Delete Contact\n",
            "4. Exit\n",
            "Enter your choice: 2\n",
            "Contacts:\n",
            "sowmiya: 9842563950\n",
            "ganga: 8248376577\n",
            "\n",
            " Options: \n",
            "1. Add Contact\n",
            "2. View Contacts\n",
            "3. Delete Contact\n",
            "4. Exit\n",
            "Enter your choice: 4\n",
            "Exiting.\n"
          ]
        }
      ]
    }
  ]
}